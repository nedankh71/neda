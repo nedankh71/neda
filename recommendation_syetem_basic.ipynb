{
  "nbformat": 4,
  "nbformat_minor": 0,
  "metadata": {
    "colab": {
      "private_outputs": true,
      "provenance": [],
      "gpuType": "T4",
      "cell_execution_strategy": "setup",
      "toc_visible": true,
      "authorship_tag": "ABX9TyOPr8vGaQYsaS+h4Ri5RZmm",
      "include_colab_link": true
    },
    "kernelspec": {
      "name": "python3",
      "display_name": "Python 3"
    },
    "language_info": {
      "name": "python"
    }
  },
  "cells": [
    {
      "cell_type": "markdown",
      "metadata": {
        "id": "view-in-github",
        "colab_type": "text"
      },
      "source": [
        "<a href=\"https://colab.research.google.com/github/nedankh71/neda/blob/main/recommendation_syetem_basic.ipynb\" target=\"_parent\"><img src=\"https://colab.research.google.com/assets/colab-badge.svg\" alt=\"Open In Colab\"/></a>"
      ]
    },
    {
      "cell_type": "code",
      "source": [
        "import pandas as pd\n",
        "import numpy as np\n",
        "import matplotlib.pyplot as plt\n",
        "import seaborn as sns"
      ],
      "metadata": {
        "id": "j3ahsD2BSRPP"
      },
      "execution_count": null,
      "outputs": []
    },
    {
      "cell_type": "code",
      "source": [
        "movie = pd.read_csv('/content/movies.csv')\n",
        "movie"
      ],
      "metadata": {
        "id": "_uqJLIh1UXFC"
      },
      "execution_count": null,
      "outputs": []
    },
    {
      "cell_type": "code",
      "source": [
        "movie.head()"
      ],
      "metadata": {
        "id": "aqS3-EaETTpB"
      },
      "execution_count": null,
      "outputs": []
    },
    {
      "cell_type": "code",
      "source": [
        "ratings = pd.read_csv('/content/ratings.csv')\n",
        "ratings"
      ],
      "metadata": {
        "id": "ve4bzxZhgtAR"
      },
      "execution_count": null,
      "outputs": []
    },
    {
      "cell_type": "code",
      "source": [
        "df = pd.merge(movie,ratings)\n",
        "df.head()"
      ],
      "metadata": {
        "id": "VVppFb5rhK_l"
      },
      "execution_count": null,
      "outputs": []
    },
    {
      "cell_type": "code",
      "source": [
        "pivot_table = df.pivot_table(index = [\"userId\"],columns = [\"title\"],values = \"rating\")\n",
        "pivot_table.head(10)"
      ],
      "metadata": {
        "id": "PftSNCiU7hPg"
      },
      "execution_count": null,
      "outputs": []
    },
    {
      "cell_type": "code",
      "source": [
        "movie_watched = pivot_table[\"$5 a Day (2008)\"]\n",
        "similarity_with_other_movies = pivot_table.corrwith(movie_watched)\n",
        "similarity_with_other_movies = similarity_with_other_movies.sort_values(ascending=False)\n",
        "similarity_with_other_movies.head()"
      ],
      "metadata": {
        "id": "hWTtuntl_jbm"
      },
      "execution_count": null,
      "outputs": []
    }
  ]
}