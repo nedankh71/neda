{
  "nbformat": 4,
  "nbformat_minor": 0,
  "metadata": {
    "colab": {
      "private_outputs": true,
      "provenance": [],
      "toc_visible": true,
      "authorship_tag": "ABX9TyNqZhuBcYv4t05W96nrX8PN",
      "include_colab_link": true
    },
    "kernelspec": {
      "name": "python3",
      "display_name": "Python 3"
    },
    "language_info": {
      "name": "python"
    }
  },
  "cells": [
    {
      "cell_type": "markdown",
      "metadata": {
        "id": "view-in-github",
        "colab_type": "text"
      },
      "source": [
        "<a href=\"https://colab.research.google.com/github/nedankh71/neda/blob/main/predict_stock.ipynb\" target=\"_parent\"><img src=\"https://colab.research.google.com/assets/colab-badge.svg\" alt=\"Open In Colab\"/></a>"
      ]
    },
    {
      "cell_type": "code",
      "execution_count": null,
      "metadata": {
        "id": "yr3HpyebrmPn"
      },
      "outputs": [],
      "source": [
        "import numpy as np\n",
        "import pandas as pd\n",
        "import matplotlib.pyplot as plt\n",
        "import seaborn as sns\n",
        "import plotly.express as px\n",
        "import time\n",
        "\n",
        "from sklearn.ensemble import RandomForestRegressor\n",
        "from sklearn.metrics import r2_score"
      ]
    },
    {
      "cell_type": "code",
      "source": [
        "train = pd.read_csv(\"/content/Uniqlo(FastRetailing) 2012-2016 Training - stocks2012-2016.csv\")\n",
        "\n",
        "test  = pd.read_csv(\"/content/Uniqlo(FastRetailing) 2017 Test - stocks2017.csv\")\n"
      ],
      "metadata": {
        "id": "E3ymo3T5rzKm"
      },
      "execution_count": null,
      "outputs": []
    },
    {
      "cell_type": "code",
      "source": [
        "train.head()"
      ],
      "metadata": {
        "id": "_v0NnZs8r5lN"
      },
      "execution_count": null,
      "outputs": []
    },
    {
      "cell_type": "code",
      "source": [
        "test.head()"
      ],
      "metadata": {
        "id": "pkWmDH2RtJ9v"
      },
      "execution_count": null,
      "outputs": []
    },
    {
      "cell_type": "code",
      "source": [
        "train.isna().sum()"
      ],
      "metadata": {
        "id": "uvUyUMautTyt"
      },
      "execution_count": null,
      "outputs": []
    },
    {
      "cell_type": "code",
      "source": [
        "test.isna().sum()"
      ],
      "metadata": {
        "id": "T0WnoCKdtbIp"
      },
      "execution_count": null,
      "outputs": []
    },
    {
      "cell_type": "code",
      "source": [
        "train.info()"
      ],
      "metadata": {
        "id": "4P3ETDq2tk_G"
      },
      "execution_count": null,
      "outputs": []
    },
    {
      "cell_type": "code",
      "source": [
        "test.info()"
      ],
      "metadata": {
        "id": "_Bmy9-INts9b"
      },
      "execution_count": null,
      "outputs": []
    },
    {
      "cell_type": "markdown",
      "source": [
        "preprocessing"
      ],
      "metadata": {
        "id": "5BRq5mTuuW9G"
      }
    },
    {
      "source": [
        "train['Date'] = pd.to_datetime(train[\"Date\"])\n",
        "train[\"Day\"] = train[\"Date\"].dt.day\n",
        "train[\"month\"] = train[\"Date\"].dt.month\n",
        "train[\"year\"] = train[\"Date\"].dt.year\n",
        "train = train.drop(\"Date\", axis=1)"
      ],
      "cell_type": "code",
      "metadata": {
        "id": "JdPjPRFPv4Gh"
      },
      "execution_count": null,
      "outputs": []
    },
    {
      "cell_type": "code",
      "source": [
        "test['Date'] = pd.to_datetime(test[\"Date\"])\n",
        "test[\"Day\"] = test[\"Date\"].dt.day\n",
        "test[\"month\"] = test[\"Date\"].dt.month\n",
        "test[\"year\"] = test[\"Date\"].dt.year\n",
        "test = test.drop(\"Date\", axis=1)"
      ],
      "metadata": {
        "id": "ZYgaSMpHwIzI"
      },
      "execution_count": null,
      "outputs": []
    },
    {
      "cell_type": "code",
      "source": [
        "train.head()"
      ],
      "metadata": {
        "id": "uADyUeBRxFbE"
      },
      "execution_count": null,
      "outputs": []
    },
    {
      "cell_type": "code",
      "source": [
        "test.head()"
      ],
      "metadata": {
        "id": "m9NcGO--xJqR"
      },
      "execution_count": null,
      "outputs": []
    },
    {
      "cell_type": "code",
      "source": [
        "sns.pairplot(train[[\"Open\",\"High\",\"Low\",\"Close\",\"Volume\"]] )"
      ],
      "metadata": {
        "id": "TeRDrKAnxVFg"
      },
      "execution_count": null,
      "outputs": []
    },
    {
      "cell_type": "code",
      "source": [
        "sns.lineplot(train[\"Close\"], label=\"train data\")\n",
        "sns.lineplot(test[\"Close\"], label=\"test data\")\n",
        "plt.show()"
      ],
      "metadata": {
        "id": "N4i1UsEyzqrk"
      },
      "execution_count": null,
      "outputs": []
    },
    {
      "cell_type": "code",
      "source": [
        "plt.figure(figsize=(10,8))\n",
        "train.corr()\n",
        "sns.heatmap(train.corr(), annot=True, cmap='coolwarm', fmt=\".2f\", linewidths=.4)"
      ],
      "metadata": {
        "id": "VrxJCFHlz8dz"
      },
      "execution_count": null,
      "outputs": []
    },
    {
      "cell_type": "code",
      "source": [
        "x_train = train.drop(\"Close\", axis=1)\n",
        "y_train = train[\"Close\"]\n",
        "x_test = test.drop(\"Close\", axis=1)\n",
        "y_test = test[\"Close\"]\n",
        "\n"
      ],
      "metadata": {
        "id": "VSnz2W_90Xo8"
      },
      "execution_count": null,
      "outputs": []
    },
    {
      "cell_type": "code",
      "source": [
        "x_test.shape\n"
      ],
      "metadata": {
        "id": "CYFPLjCq1eQz"
      },
      "execution_count": null,
      "outputs": []
    },
    {
      "cell_type": "code",
      "source": [
        "x_train.shape"
      ],
      "metadata": {
        "id": "v9RQi2T31tq8"
      },
      "execution_count": null,
      "outputs": []
    },
    {
      "cell_type": "markdown",
      "source": [
        "model"
      ],
      "metadata": {
        "id": "qncg_h5d1_Fg"
      }
    },
    {
      "cell_type": "code",
      "source": [
        "from sklearn.ensemble import RandomForestRegressor\n",
        "from sklearn.metrics import r2_score\n",
        "from sklearn.model_selection import GridSearchCV"
      ],
      "metadata": {
        "id": "KvPmUlv_2AqJ"
      },
      "execution_count": null,
      "outputs": []
    },
    {
      "cell_type": "code",
      "source": [
        "rf = RandomForestRegressor()\n",
        "rf.fit(x_train, y_train)"
      ],
      "metadata": {
        "id": "2haMPfNb9mbV"
      },
      "execution_count": null,
      "outputs": []
    },
    {
      "cell_type": "code",
      "source": [
        "pred_ = rf.predict(x_train)\n",
        "sns.lineplot(pred, label = \"predict\")\n",
        "sns.lineplot(y_test, label = \"true value\")"
      ],
      "metadata": {
        "id": "rzNNClrd-TyM"
      },
      "execution_count": null,
      "outputs": []
    },
    {
      "cell_type": "code",
      "source": [
        "from xgboost import XGBRegressor\n",
        "\n",
        "xg = XGBRegressor()\n",
        "xg.fit(x_train,y_train)\n",
        "x_pred = xg.predict(x_test)"
      ],
      "metadata": {
        "id": "y19Dge1_-z5v"
      },
      "execution_count": null,
      "outputs": []
    },
    {
      "cell_type": "code",
      "source": [
        "pred_ = xg.predict(x_train)\n",
        "sns.lineplot(pred, label = \"predict\")\n",
        "sns.lineplot(y_test, label = \"true value\")"
      ],
      "metadata": {
        "id": "pXKvzxWk_5bv"
      },
      "execution_count": null,
      "outputs": []
    }
  ]
}